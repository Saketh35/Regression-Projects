{
 "cells": [
  {
   "cell_type": "code",
   "execution_count": 1,
   "id": "3d42c516",
   "metadata": {},
   "outputs": [],
   "source": [
    "import pandas as pd \n",
    "import numpy as np\n",
    "import matplotlib.pyplot as plt \n",
    "import seaborn as sns\n",
    "import warnings\n",
    "warnings.filterwarnings(\"ignore\")"
   ]
  },
  {
   "cell_type": "code",
   "execution_count": 2,
   "id": "0298cdc5",
   "metadata": {},
   "outputs": [],
   "source": [
    "df=pd.read_csv('laptop_price.csv',encoding='latin-1')"
   ]
  },
  {
   "cell_type": "code",
   "execution_count": 3,
   "id": "9fc5d4ad",
   "metadata": {},
   "outputs": [
    {
     "data": {
      "text/plain": [
       "(1303, 13)"
      ]
     },
     "execution_count": 3,
     "metadata": {},
     "output_type": "execute_result"
    }
   ],
   "source": [
    "df.shape"
   ]
  },
  {
   "cell_type": "code",
   "execution_count": 4,
   "id": "211ae39d",
   "metadata": {},
   "outputs": [
    {
     "data": {
      "text/plain": [
       "laptop_ID           1303\n",
       "Company               19\n",
       "Product              618\n",
       "TypeName               6\n",
       "Inches                18\n",
       "ScreenResolution      40\n",
       "Cpu                  118\n",
       "Ram                    9\n",
       "Memory                39\n",
       "Gpu                  110\n",
       "OpSys                  9\n",
       "Weight               179\n",
       "Price_euros          791\n",
       "dtype: int64"
      ]
     },
     "execution_count": 4,
     "metadata": {},
     "output_type": "execute_result"
    }
   ],
   "source": [
    "df.nunique()"
   ]
  },
  {
   "cell_type": "code",
   "execution_count": 5,
   "id": "951306ee",
   "metadata": {},
   "outputs": [
    {
     "data": {
      "text/plain": [
       "Dell         297\n",
       "Lenovo       297\n",
       "HP           274\n",
       "Asus         158\n",
       "Acer         103\n",
       "MSI           54\n",
       "Toshiba       48\n",
       "Apple         21\n",
       "Samsung        9\n",
       "Razer          7\n",
       "Mediacom       7\n",
       "Microsoft      6\n",
       "Xiaomi         4\n",
       "Vero           4\n",
       "Chuwi          3\n",
       "Google         3\n",
       "Fujitsu        3\n",
       "LG             3\n",
       "Huawei         2\n",
       "Name: Company, dtype: int64"
      ]
     },
     "execution_count": 5,
     "metadata": {},
     "output_type": "execute_result"
    }
   ],
   "source": [
    "df.Company.value_counts()"
   ]
  },
  {
   "cell_type": "code",
   "execution_count": 6,
   "id": "7709f9ee",
   "metadata": {},
   "outputs": [],
   "source": [
    "df=df.join(pd.get_dummies(df.Company))\n",
    "df=df.drop('Company',axis=1)"
   ]
  },
  {
   "cell_type": "code",
   "execution_count": 7,
   "id": "1973f464",
   "metadata": {},
   "outputs": [],
   "source": [
    "df=df.join(pd.get_dummies(df.TypeName))\n",
    "df=df.drop('TypeName',axis=1)"
   ]
  },
  {
   "cell_type": "code",
   "execution_count": 8,
   "id": "308b4746",
   "metadata": {},
   "outputs": [],
   "source": [
    "df['ScreenResolution']=df.ScreenResolution.str.split(' ').apply(lambda x:x[-1])"
   ]
  },
  {
   "cell_type": "code",
   "execution_count": 9,
   "id": "09a5256b",
   "metadata": {},
   "outputs": [],
   "source": [
    "df['px_width']=df.ScreenResolution.str.split('x').apply(lambda x:x[0])\n",
    "df['px_height']=df.ScreenResolution.str.split('x').apply(lambda x:x[1])"
   ]
  },
  {
   "cell_type": "code",
   "execution_count": 10,
   "id": "7211164f",
   "metadata": {},
   "outputs": [],
   "source": [
    "df=df.drop('ScreenResolution',axis=1)"
   ]
  },
  {
   "cell_type": "code",
   "execution_count": 11,
   "id": "afc6456e",
   "metadata": {},
   "outputs": [],
   "source": [
    "df=df.drop('Product',axis=1)"
   ]
  },
  {
   "cell_type": "code",
   "execution_count": 12,
   "id": "635a1262",
   "metadata": {},
   "outputs": [],
   "source": [
    "df['Frequency']=df['Cpu'].str.split(' ').apply(lambda x:x[-1])"
   ]
  },
  {
   "cell_type": "code",
   "execution_count": 13,
   "id": "6018538f",
   "metadata": {},
   "outputs": [],
   "source": [
    "df['cpu_type']=df['Cpu'].str.split(' ').apply(lambda x:x[0])"
   ]
  },
  {
   "cell_type": "code",
   "execution_count": 14,
   "id": "df133f50",
   "metadata": {},
   "outputs": [],
   "source": [
    "df=df.drop('Cpu',axis=1)"
   ]
  },
  {
   "cell_type": "code",
   "execution_count": 15,
   "id": "5a085428",
   "metadata": {},
   "outputs": [],
   "source": [
    "df['memory_type']=df['Memory'].str.split(' ').apply(lambda x:x[1])"
   ]
  },
  {
   "cell_type": "code",
   "execution_count": 16,
   "id": "f8a2af83",
   "metadata": {},
   "outputs": [],
   "source": [
    "df['memory_amount']=df['Memory'].str.split(' ').apply(lambda x:x[0])"
   ]
  },
  {
   "cell_type": "code",
   "execution_count": 17,
   "id": "c7d62079",
   "metadata": {},
   "outputs": [],
   "source": [
    "def turn(value):\n",
    "    if 'TB' in value:\n",
    "        return float(value[:value.find('TB')])*1000\n",
    "    else:\n",
    "        return float(value[:value.find('GB')])"
   ]
  },
  {
   "cell_type": "code",
   "execution_count": 18,
   "id": "48058fe8",
   "metadata": {},
   "outputs": [],
   "source": [
    "df['memory_amount']=df['memory_amount'].apply(turn)"
   ]
  },
  {
   "cell_type": "code",
   "execution_count": 19,
   "id": "36aafe14",
   "metadata": {},
   "outputs": [],
   "source": [
    "df=df.drop('Memory',axis=1)"
   ]
  },
  {
   "cell_type": "code",
   "execution_count": 20,
   "id": "06d81a5a",
   "metadata": {},
   "outputs": [],
   "source": [
    "df['gpu_type']=df.Gpu.str.split(' ').apply(lambda x: x[0])"
   ]
  },
  {
   "cell_type": "code",
   "execution_count": 21,
   "id": "f06ecc34",
   "metadata": {},
   "outputs": [],
   "source": [
    "df['Ram']=df.Ram.apply(lambda x: x[:-2])"
   ]
  },
  {
   "cell_type": "code",
   "execution_count": 22,
   "id": "ff12c7b2",
   "metadata": {},
   "outputs": [],
   "source": [
    "df=df.drop('Gpu',axis=1)"
   ]
  },
  {
   "cell_type": "code",
   "execution_count": 23,
   "id": "62501f93",
   "metadata": {},
   "outputs": [],
   "source": [
    "df['Weight']=df.Weight.apply(lambda x: x[:-2])"
   ]
  },
  {
   "cell_type": "code",
   "execution_count": 24,
   "id": "b02197ae",
   "metadata": {},
   "outputs": [],
   "source": [
    "df[\"OpSys\"]=df[\"OpSys\"].str.split(' ').apply(lambda x: x[0])"
   ]
  },
  {
   "cell_type": "code",
   "execution_count": 25,
   "id": "b4a592df",
   "metadata": {},
   "outputs": [],
   "source": [
    "df=df.join(pd.get_dummies(df['OpSys']))"
   ]
  },
  {
   "cell_type": "code",
   "execution_count": 26,
   "id": "81a27054",
   "metadata": {},
   "outputs": [],
   "source": [
    "df=df.drop('OpSys',axis=1)"
   ]
  },
  {
   "cell_type": "code",
   "execution_count": 27,
   "id": "66aa3f2e",
   "metadata": {},
   "outputs": [],
   "source": [
    "df['Frequency']=df.Frequency.apply(lambda x: x[:-3])"
   ]
  },
  {
   "cell_type": "code",
   "execution_count": 28,
   "id": "07f493bf",
   "metadata": {},
   "outputs": [
    {
     "data": {
      "text/html": [
       "<div>\n",
       "<style scoped>\n",
       "    .dataframe tbody tr th:only-of-type {\n",
       "        vertical-align: middle;\n",
       "    }\n",
       "\n",
       "    .dataframe tbody tr th {\n",
       "        vertical-align: top;\n",
       "    }\n",
       "\n",
       "    .dataframe thead th {\n",
       "        text-align: right;\n",
       "    }\n",
       "</style>\n",
       "<table border=\"1\" class=\"dataframe\">\n",
       "  <thead>\n",
       "    <tr style=\"text-align: right;\">\n",
       "      <th></th>\n",
       "      <th>laptop_ID</th>\n",
       "      <th>Inches</th>\n",
       "      <th>Ram</th>\n",
       "      <th>Weight</th>\n",
       "      <th>Price_euros</th>\n",
       "      <th>Acer</th>\n",
       "      <th>Apple</th>\n",
       "      <th>Asus</th>\n",
       "      <th>Chuwi</th>\n",
       "      <th>Dell</th>\n",
       "      <th>...</th>\n",
       "      <th>memory_type</th>\n",
       "      <th>memory_amount</th>\n",
       "      <th>gpu_type</th>\n",
       "      <th>Android</th>\n",
       "      <th>Chrome</th>\n",
       "      <th>Linux</th>\n",
       "      <th>Mac</th>\n",
       "      <th>No</th>\n",
       "      <th>Windows</th>\n",
       "      <th>macOS</th>\n",
       "    </tr>\n",
       "  </thead>\n",
       "  <tbody>\n",
       "    <tr>\n",
       "      <th>0</th>\n",
       "      <td>1</td>\n",
       "      <td>13.3</td>\n",
       "      <td>8</td>\n",
       "      <td>1.37</td>\n",
       "      <td>1339.69</td>\n",
       "      <td>0</td>\n",
       "      <td>1</td>\n",
       "      <td>0</td>\n",
       "      <td>0</td>\n",
       "      <td>0</td>\n",
       "      <td>...</td>\n",
       "      <td>SSD</td>\n",
       "      <td>128.0</td>\n",
       "      <td>Intel</td>\n",
       "      <td>0</td>\n",
       "      <td>0</td>\n",
       "      <td>0</td>\n",
       "      <td>0</td>\n",
       "      <td>0</td>\n",
       "      <td>0</td>\n",
       "      <td>1</td>\n",
       "    </tr>\n",
       "    <tr>\n",
       "      <th>1</th>\n",
       "      <td>2</td>\n",
       "      <td>13.3</td>\n",
       "      <td>8</td>\n",
       "      <td>1.34</td>\n",
       "      <td>898.94</td>\n",
       "      <td>0</td>\n",
       "      <td>1</td>\n",
       "      <td>0</td>\n",
       "      <td>0</td>\n",
       "      <td>0</td>\n",
       "      <td>...</td>\n",
       "      <td>Flash</td>\n",
       "      <td>128.0</td>\n",
       "      <td>Intel</td>\n",
       "      <td>0</td>\n",
       "      <td>0</td>\n",
       "      <td>0</td>\n",
       "      <td>0</td>\n",
       "      <td>0</td>\n",
       "      <td>0</td>\n",
       "      <td>1</td>\n",
       "    </tr>\n",
       "    <tr>\n",
       "      <th>2</th>\n",
       "      <td>3</td>\n",
       "      <td>15.6</td>\n",
       "      <td>8</td>\n",
       "      <td>1.86</td>\n",
       "      <td>575.00</td>\n",
       "      <td>0</td>\n",
       "      <td>0</td>\n",
       "      <td>0</td>\n",
       "      <td>0</td>\n",
       "      <td>0</td>\n",
       "      <td>...</td>\n",
       "      <td>SSD</td>\n",
       "      <td>256.0</td>\n",
       "      <td>Intel</td>\n",
       "      <td>0</td>\n",
       "      <td>0</td>\n",
       "      <td>0</td>\n",
       "      <td>0</td>\n",
       "      <td>1</td>\n",
       "      <td>0</td>\n",
       "      <td>0</td>\n",
       "    </tr>\n",
       "    <tr>\n",
       "      <th>3</th>\n",
       "      <td>4</td>\n",
       "      <td>15.4</td>\n",
       "      <td>16</td>\n",
       "      <td>1.83</td>\n",
       "      <td>2537.45</td>\n",
       "      <td>0</td>\n",
       "      <td>1</td>\n",
       "      <td>0</td>\n",
       "      <td>0</td>\n",
       "      <td>0</td>\n",
       "      <td>...</td>\n",
       "      <td>SSD</td>\n",
       "      <td>512.0</td>\n",
       "      <td>AMD</td>\n",
       "      <td>0</td>\n",
       "      <td>0</td>\n",
       "      <td>0</td>\n",
       "      <td>0</td>\n",
       "      <td>0</td>\n",
       "      <td>0</td>\n",
       "      <td>1</td>\n",
       "    </tr>\n",
       "    <tr>\n",
       "      <th>4</th>\n",
       "      <td>5</td>\n",
       "      <td>13.3</td>\n",
       "      <td>8</td>\n",
       "      <td>1.37</td>\n",
       "      <td>1803.60</td>\n",
       "      <td>0</td>\n",
       "      <td>1</td>\n",
       "      <td>0</td>\n",
       "      <td>0</td>\n",
       "      <td>0</td>\n",
       "      <td>...</td>\n",
       "      <td>SSD</td>\n",
       "      <td>256.0</td>\n",
       "      <td>Intel</td>\n",
       "      <td>0</td>\n",
       "      <td>0</td>\n",
       "      <td>0</td>\n",
       "      <td>0</td>\n",
       "      <td>0</td>\n",
       "      <td>0</td>\n",
       "      <td>1</td>\n",
       "    </tr>\n",
       "    <tr>\n",
       "      <th>...</th>\n",
       "      <td>...</td>\n",
       "      <td>...</td>\n",
       "      <td>...</td>\n",
       "      <td>...</td>\n",
       "      <td>...</td>\n",
       "      <td>...</td>\n",
       "      <td>...</td>\n",
       "      <td>...</td>\n",
       "      <td>...</td>\n",
       "      <td>...</td>\n",
       "      <td>...</td>\n",
       "      <td>...</td>\n",
       "      <td>...</td>\n",
       "      <td>...</td>\n",
       "      <td>...</td>\n",
       "      <td>...</td>\n",
       "      <td>...</td>\n",
       "      <td>...</td>\n",
       "      <td>...</td>\n",
       "      <td>...</td>\n",
       "      <td>...</td>\n",
       "    </tr>\n",
       "    <tr>\n",
       "      <th>1298</th>\n",
       "      <td>1316</td>\n",
       "      <td>14.0</td>\n",
       "      <td>4</td>\n",
       "      <td>1.8</td>\n",
       "      <td>638.00</td>\n",
       "      <td>0</td>\n",
       "      <td>0</td>\n",
       "      <td>0</td>\n",
       "      <td>0</td>\n",
       "      <td>0</td>\n",
       "      <td>...</td>\n",
       "      <td>SSD</td>\n",
       "      <td>128.0</td>\n",
       "      <td>Intel</td>\n",
       "      <td>0</td>\n",
       "      <td>0</td>\n",
       "      <td>0</td>\n",
       "      <td>0</td>\n",
       "      <td>0</td>\n",
       "      <td>1</td>\n",
       "      <td>0</td>\n",
       "    </tr>\n",
       "    <tr>\n",
       "      <th>1299</th>\n",
       "      <td>1317</td>\n",
       "      <td>13.3</td>\n",
       "      <td>16</td>\n",
       "      <td>1.3</td>\n",
       "      <td>1499.00</td>\n",
       "      <td>0</td>\n",
       "      <td>0</td>\n",
       "      <td>0</td>\n",
       "      <td>0</td>\n",
       "      <td>0</td>\n",
       "      <td>...</td>\n",
       "      <td>SSD</td>\n",
       "      <td>512.0</td>\n",
       "      <td>Intel</td>\n",
       "      <td>0</td>\n",
       "      <td>0</td>\n",
       "      <td>0</td>\n",
       "      <td>0</td>\n",
       "      <td>0</td>\n",
       "      <td>1</td>\n",
       "      <td>0</td>\n",
       "    </tr>\n",
       "    <tr>\n",
       "      <th>1300</th>\n",
       "      <td>1318</td>\n",
       "      <td>14.0</td>\n",
       "      <td>2</td>\n",
       "      <td>1.5</td>\n",
       "      <td>229.00</td>\n",
       "      <td>0</td>\n",
       "      <td>0</td>\n",
       "      <td>0</td>\n",
       "      <td>0</td>\n",
       "      <td>0</td>\n",
       "      <td>...</td>\n",
       "      <td>Flash</td>\n",
       "      <td>64.0</td>\n",
       "      <td>Intel</td>\n",
       "      <td>0</td>\n",
       "      <td>0</td>\n",
       "      <td>0</td>\n",
       "      <td>0</td>\n",
       "      <td>0</td>\n",
       "      <td>1</td>\n",
       "      <td>0</td>\n",
       "    </tr>\n",
       "    <tr>\n",
       "      <th>1301</th>\n",
       "      <td>1319</td>\n",
       "      <td>15.6</td>\n",
       "      <td>6</td>\n",
       "      <td>2.19</td>\n",
       "      <td>764.00</td>\n",
       "      <td>0</td>\n",
       "      <td>0</td>\n",
       "      <td>0</td>\n",
       "      <td>0</td>\n",
       "      <td>0</td>\n",
       "      <td>...</td>\n",
       "      <td>HDD</td>\n",
       "      <td>1000.0</td>\n",
       "      <td>AMD</td>\n",
       "      <td>0</td>\n",
       "      <td>0</td>\n",
       "      <td>0</td>\n",
       "      <td>0</td>\n",
       "      <td>0</td>\n",
       "      <td>1</td>\n",
       "      <td>0</td>\n",
       "    </tr>\n",
       "    <tr>\n",
       "      <th>1302</th>\n",
       "      <td>1320</td>\n",
       "      <td>15.6</td>\n",
       "      <td>4</td>\n",
       "      <td>2.2</td>\n",
       "      <td>369.00</td>\n",
       "      <td>0</td>\n",
       "      <td>0</td>\n",
       "      <td>1</td>\n",
       "      <td>0</td>\n",
       "      <td>0</td>\n",
       "      <td>...</td>\n",
       "      <td>HDD</td>\n",
       "      <td>500.0</td>\n",
       "      <td>Intel</td>\n",
       "      <td>0</td>\n",
       "      <td>0</td>\n",
       "      <td>0</td>\n",
       "      <td>0</td>\n",
       "      <td>0</td>\n",
       "      <td>1</td>\n",
       "      <td>0</td>\n",
       "    </tr>\n",
       "  </tbody>\n",
       "</table>\n",
       "<p>1303 rows × 44 columns</p>\n",
       "</div>"
      ],
      "text/plain": [
       "      laptop_ID  Inches Ram Weight  Price_euros  Acer  Apple  Asus  Chuwi  \\\n",
       "0             1    13.3   8   1.37      1339.69     0      1     0      0   \n",
       "1             2    13.3   8   1.34       898.94     0      1     0      0   \n",
       "2             3    15.6   8   1.86       575.00     0      0     0      0   \n",
       "3             4    15.4  16   1.83      2537.45     0      1     0      0   \n",
       "4             5    13.3   8   1.37      1803.60     0      1     0      0   \n",
       "...         ...     ...  ..    ...          ...   ...    ...   ...    ...   \n",
       "1298       1316    14.0   4    1.8       638.00     0      0     0      0   \n",
       "1299       1317    13.3  16    1.3      1499.00     0      0     0      0   \n",
       "1300       1318    14.0   2    1.5       229.00     0      0     0      0   \n",
       "1301       1319    15.6   6   2.19       764.00     0      0     0      0   \n",
       "1302       1320    15.6   4    2.2       369.00     0      0     1      0   \n",
       "\n",
       "      Dell  ...  memory_type  memory_amount  gpu_type  Android  Chrome  Linux  \\\n",
       "0        0  ...          SSD          128.0     Intel        0       0      0   \n",
       "1        0  ...        Flash          128.0     Intel        0       0      0   \n",
       "2        0  ...          SSD          256.0     Intel        0       0      0   \n",
       "3        0  ...          SSD          512.0       AMD        0       0      0   \n",
       "4        0  ...          SSD          256.0     Intel        0       0      0   \n",
       "...    ...  ...          ...            ...       ...      ...     ...    ...   \n",
       "1298     0  ...          SSD          128.0     Intel        0       0      0   \n",
       "1299     0  ...          SSD          512.0     Intel        0       0      0   \n",
       "1300     0  ...        Flash           64.0     Intel        0       0      0   \n",
       "1301     0  ...          HDD         1000.0       AMD        0       0      0   \n",
       "1302     0  ...          HDD          500.0     Intel        0       0      0   \n",
       "\n",
       "      Mac  No  Windows  macOS  \n",
       "0       0   0        0      1  \n",
       "1       0   0        0      1  \n",
       "2       0   1        0      0  \n",
       "3       0   0        0      1  \n",
       "4       0   0        0      1  \n",
       "...   ...  ..      ...    ...  \n",
       "1298    0   0        1      0  \n",
       "1299    0   0        1      0  \n",
       "1300    0   0        1      0  \n",
       "1301    0   0        1      0  \n",
       "1302    0   0        1      0  \n",
       "\n",
       "[1303 rows x 44 columns]"
      ]
     },
     "execution_count": 28,
     "metadata": {},
     "output_type": "execute_result"
    }
   ],
   "source": [
    "df"
   ]
  },
  {
   "cell_type": "code",
   "execution_count": 35,
   "id": "a099eaa2",
   "metadata": {},
   "outputs": [
    {
     "data": {
      "text/plain": [
       "laptop_ID             1303\n",
       "Inches                  18\n",
       "Ram                      9\n",
       "Weight                 179\n",
       "Price_euros            791\n",
       "Acer                     2\n",
       "Apple                    2\n",
       "Asus                     2\n",
       "Chuwi                    2\n",
       "Dell                     2\n",
       "Fujitsu                  2\n",
       "Google                   2\n",
       "HP                       2\n",
       "Huawei                   2\n",
       "LG                       2\n",
       "Lenovo                   2\n",
       "MSI                      2\n",
       "Mediacom                 2\n",
       "Microsoft                2\n",
       "Razer                    2\n",
       "Samsung                  2\n",
       "Toshiba                  2\n",
       "Vero                     2\n",
       "Xiaomi                   2\n",
       "2 in 1 Convertible       2\n",
       "Gaming                   2\n",
       "Netbook                  2\n",
       "Notebook                 2\n",
       "Ultrabook                2\n",
       "Workstation              2\n",
       "px_width                13\n",
       "px_height               10\n",
       "Frequency               29\n",
       "cpu_type                 3\n",
       "memory_type              4\n",
       "memory_amount           13\n",
       "gpu_type                 4\n",
       "Android                  2\n",
       "Chrome                   2\n",
       "Linux                    2\n",
       "Mac                      2\n",
       "No                       2\n",
       "Windows                  2\n",
       "macOS                    2\n",
       "dtype: int64"
      ]
     },
     "execution_count": 35,
     "metadata": {},
     "output_type": "execute_result"
    }
   ],
   "source": [
    "df.nunique()"
   ]
  },
  {
   "cell_type": "code",
   "execution_count": 65,
   "id": "1d1e719b",
   "metadata": {},
   "outputs": [
    {
     "data": {
      "text/plain": [
       "(array([619., 200., 375.,  22.,   0.,  25.,  41.,  17.,   3.,   1.]),\n",
       " array([0. , 0.8, 1.6, 2.4, 3.2, 4. , 4.8, 5.6, 6.4, 7.2, 8. ]),\n",
       " <BarContainer object of 10 artists>)"
      ]
     },
     "execution_count": 65,
     "metadata": {},
     "output_type": "execute_result"
    },
    {
     "data": {
      "image/png": "[encoded data removed]",
      "text/plain": [
       "<Figure size 640x480 with 1 Axes>"
      ]
     },
     "metadata": {},
     "output_type": "display_data"
    }
   ],
   "source": [
    "plt.hist(df['Ram'],bins=10)"
   ]
  },
  {
   "cell_type": "code",
   "execution_count": 68,
   "id": "d52ec792",
   "metadata": {},
   "outputs": [
    {
     "data": {
      "text/plain": [
       "16.0"
      ]
     },
     "execution_count": 68,
     "metadata": {},
     "output_type": "execute_result"
    }
   ],
   "source": [
    "u=df['Ram'].quantile(0.95)"
   ]
  },
  {
   "cell_type": "code",
   "execution_count": 67,
   "id": "7b61c67f",
   "metadata": {},
   "outputs": [],
   "source": [
    "df['Ram']=df['Ram'].astype('int')"
   ]
  },
  {
   "cell_type": "code",
   "execution_count": 30,
   "id": "539ed770",
   "metadata": {},
   "outputs": [],
   "source": [
    "df['Weight']=df['Weight'].astype('float')\n",
    "df['px_width']=df['px_width'].astype('int')\n",
    "df['px_height']=df['px_height'].astype('int')\n",
    "df['memory_amount']=df['memory_amount'].astype('int')\n",
    "df['Frequency']=df['Frequency'].astype('float')"
   ]
  },
  {
   "cell_type": "code",
   "execution_count": 31,
   "id": "150eeb2f",
   "metadata": {},
   "outputs": [
    {
     "data": {
      "text/plain": [
       "laptop_ID               int64\n",
       "Inches                float64\n",
       "Ram                     int32\n",
       "Weight                float64\n",
       "Price_euros           float64\n",
       "Acer                    uint8\n",
       "Apple                   uint8\n",
       "Asus                    uint8\n",
       "Chuwi                   uint8\n",
       "Dell                    uint8\n",
       "Fujitsu                 uint8\n",
       "Google                  uint8\n",
       "HP                      uint8\n",
       "Huawei                  uint8\n",
       "LG                      uint8\n",
       "Lenovo                  uint8\n",
       "MSI                     uint8\n",
       "Mediacom                uint8\n",
       "Microsoft               uint8\n",
       "Razer                   uint8\n",
       "Samsung                 uint8\n",
       "Toshiba                 uint8\n",
       "Vero                    uint8\n",
       "Xiaomi                  uint8\n",
       "2 in 1 Convertible      uint8\n",
       "Gaming                  uint8\n",
       "Netbook                 uint8\n",
       "Notebook                uint8\n",
       "Ultrabook               uint8\n",
       "Workstation             uint8\n",
       "px_width                int32\n",
       "px_height               int32\n",
       "Frequency             float64\n",
       "cpu_type               object\n",
       "memory_type            object\n",
       "memory_amount           int32\n",
       "gpu_type               object\n",
       "Android                 uint8\n",
       "Chrome                  uint8\n",
       "Linux                   uint8\n",
       "Mac                     uint8\n",
       "No                      uint8\n",
       "Windows                 uint8\n",
       "macOS                   uint8\n",
       "dtype: object"
      ]
     },
     "execution_count": 31,
     "metadata": {},
     "output_type": "execute_result"
    }
   ],
   "source": [
    "df.dtypes"
   ]
  },
  {
   "cell_type": "code",
   "execution_count": 32,
   "id": "e93138b0",
   "metadata": {},
   "outputs": [],
   "source": [
    "df=df.join(pd.get_dummies(df['memory_type'],columns=['memory']))\n",
    "df=df.join(pd.get_dummies(df['gpu_type'],columns=['gpu']))"
   ]
  },
  {
   "cell_type": "code",
   "execution_count": 33,
   "id": "2455b5c5",
   "metadata": {},
   "outputs": [],
   "source": [
    "from sklearn.model_selection import train_test_split"
   ]
  },
  {
   "cell_type": "code",
   "execution_count": 34,
   "id": "f618b4a9",
   "metadata": {},
   "outputs": [],
   "source": [
    "x=df.drop(columns=['Price_euros','gpu_type','memory_type','cpu_type'])\n",
    "y=df['Price_euros']"
   ]
  },
  {
   "cell_type": "code",
   "execution_count": 35,
   "id": "94ca1e33",
   "metadata": {},
   "outputs": [],
   "source": [
    "x_train,x_test,y_train,y_test=train_test_split(x,y,test_size=0.2,random_state=43)"
   ]
  },
  {
   "cell_type": "code",
   "execution_count": 36,
   "id": "f5d6fb3e",
   "metadata": {},
   "outputs": [],
   "source": [
    "from sklearn.linear_model import LinearRegression,LogisticRegression,Ridge,Lasso\n",
    "from sklearn.ensemble import RandomForestRegressor,GradientBoostingRegressor\n",
    "from sklearn.tree import DecisionTreeRegressor\n",
    "from sklearn.neighbors import KNeighborsRegressor"
   ]
  },
  {
   "cell_type": "code",
   "execution_count": 37,
   "id": "ebb7c570",
   "metadata": {},
   "outputs": [
    {
     "data": {
      "text/plain": [
       "0.8063206467293677"
      ]
     },
     "execution_count": 37,
     "metadata": {},
     "output_type": "execute_result"
    }
   ],
   "source": [
    "m1=LinearRegression()\n",
    "m1.fit(x_train,y_train)\n",
    "m1.score(x_test,y_test)"
   ]
  },
  {
   "cell_type": "code",
   "execution_count": 38,
   "id": "965c49b1",
   "metadata": {},
   "outputs": [
    {
     "data": {
      "text/plain": [
       "0.8659200180799355"
      ]
     },
     "execution_count": 38,
     "metadata": {},
     "output_type": "execute_result"
    }
   ],
   "source": [
    "m2=RandomForestRegressor()\n",
    "m2.fit(x_train,y_train)\n",
    "m2.score(x_test,y_test)"
   ]
  },
  {
   "cell_type": "code",
   "execution_count": 39,
   "id": "b2da4bed",
   "metadata": {},
   "outputs": [
    {
     "data": {
      "text/plain": [
       "0.7934864428007083"
      ]
     },
     "execution_count": 39,
     "metadata": {},
     "output_type": "execute_result"
    }
   ],
   "source": [
    "m3=DecisionTreeRegressor()\n",
    "m3.fit(x_train,y_train)\n",
    "m3.score(x_test,y_test)"
   ]
  },
  {
   "cell_type": "code",
   "execution_count": 40,
   "id": "32c89987",
   "metadata": {},
   "outputs": [
    {
     "data": {
      "text/plain": [
       "0.4812931730822597"
      ]
     },
     "execution_count": 40,
     "metadata": {},
     "output_type": "execute_result"
    }
   ],
   "source": [
    "m4=KNeighborsRegressor()\n",
    "m4.fit(x_train,y_train)\n",
    "m4.score(x_test,y_test)"
   ]
  },
  {
   "cell_type": "code",
   "execution_count": 41,
   "id": "c973a8ab",
   "metadata": {},
   "outputs": [
    {
     "data": {
      "text/plain": [
       "0.8733685975908926"
      ]
     },
     "execution_count": 41,
     "metadata": {},
     "output_type": "execute_result"
    }
   ],
   "source": [
    "m5=GradientBoostingRegressor()\n",
    "m5.fit(x_train,y_train)\n",
    "m5.score(x_test,y_test)"
   ]
  },
  {
   "cell_type": "code",
   "execution_count": 42,
   "id": "0f565c40",
   "metadata": {},
   "outputs": [
    {
     "data": {
      "text/plain": [
       "0.8035881563721048"
      ]
     },
     "execution_count": 42,
     "metadata": {},
     "output_type": "execute_result"
    }
   ],
   "source": [
    "m6=Ridge(alpha=1.0)\n",
    "m6.fit(x_train,y_train)\n",
    "m6.score(x_test,y_test)"
   ]
  },
  {
   "cell_type": "code",
   "execution_count": 43,
   "id": "0ee39463",
   "metadata": {},
   "outputs": [
    {
     "data": {
      "text/plain": [
       "0.7976345159340807"
      ]
     },
     "execution_count": 43,
     "metadata": {},
     "output_type": "execute_result"
    }
   ],
   "source": [
    "m6=Lasso(alpha=1.0)\n",
    "m6.fit(x_train,y_train)\n",
    "m6.score(x_test,y_test)"
   ]
  },
  {
   "cell_type": "code",
   "execution_count": null,
   "id": "2eb62da2",
   "metadata": {},
   "outputs": [],
   "source": [
    "# !pip3 install auto-sklearn"
   ]
  },
  {
   "cell_type": "code",
   "execution_count": null,
   "id": "316929e3",
   "metadata": {},
   "outputs": [],
   "source": [
    "# import autosklearn"
   ]
  },
  {
   "cell_type": "code",
   "execution_count": 3,
   "id": "b5c0dad3",
   "metadata": {},
   "outputs": [
    {
     "data": {
      "text/html": [
       "<div>\n",
       "<style scoped>\n",
       "    .dataframe tbody tr th:only-of-type {\n",
       "        vertical-align: middle;\n",
       "    }\n",
       "\n",
       "    .dataframe tbody tr th {\n",
       "        vertical-align: top;\n",
       "    }\n",
       "\n",
       "    .dataframe thead th {\n",
       "        text-align: right;\n",
       "    }\n",
       "</style>\n",
       "<table border=\"1\" class=\"dataframe\">\n",
       "  <thead>\n",
       "    <tr style=\"text-align: right;\">\n",
       "      <th></th>\n",
       "      <th>laptop_ID</th>\n",
       "      <th>Company</th>\n",
       "      <th>Product</th>\n",
       "      <th>TypeName</th>\n",
       "      <th>Inches</th>\n",
       "      <th>ScreenResolution</th>\n",
       "      <th>Cpu</th>\n",
       "      <th>Ram</th>\n",
       "      <th>Memory</th>\n",
       "      <th>Gpu</th>\n",
       "      <th>OpSys</th>\n",
       "      <th>Weight</th>\n",
       "      <th>Price_euros</th>\n",
       "    </tr>\n",
       "  </thead>\n",
       "  <tbody>\n",
       "    <tr>\n",
       "      <th>0</th>\n",
       "      <td>1</td>\n",
       "      <td>Apple</td>\n",
       "      <td>MacBook Pro</td>\n",
       "      <td>Ultrabook</td>\n",
       "      <td>13.3</td>\n",
       "      <td>IPS Panel Retina Display 2560x1600</td>\n",
       "      <td>Intel Core i5 2.3GHz</td>\n",
       "      <td>8GB</td>\n",
       "      <td>128GB SSD</td>\n",
       "      <td>Intel Iris Plus Graphics 640</td>\n",
       "      <td>macOS</td>\n",
       "      <td>1.37kg</td>\n",
       "      <td>1339.69</td>\n",
       "    </tr>\n",
       "    <tr>\n",
       "      <th>1</th>\n",
       "      <td>2</td>\n",
       "      <td>Apple</td>\n",
       "      <td>Macbook Air</td>\n",
       "      <td>Ultrabook</td>\n",
       "      <td>13.3</td>\n",
       "      <td>1440x900</td>\n",
       "      <td>Intel Core i5 1.8GHz</td>\n",
       "      <td>8GB</td>\n",
       "      <td>128GB Flash Storage</td>\n",
       "      <td>Intel HD Graphics 6000</td>\n",
       "      <td>macOS</td>\n",
       "      <td>1.34kg</td>\n",
       "      <td>898.94</td>\n",
       "    </tr>\n",
       "    <tr>\n",
       "      <th>2</th>\n",
       "      <td>3</td>\n",
       "      <td>HP</td>\n",
       "      <td>250 G6</td>\n",
       "      <td>Notebook</td>\n",
       "      <td>15.6</td>\n",
       "      <td>Full HD 1920x1080</td>\n",
       "      <td>Intel Core i5 7200U 2.5GHz</td>\n",
       "      <td>8GB</td>\n",
       "      <td>256GB SSD</td>\n",
       "      <td>Intel HD Graphics 620</td>\n",
       "      <td>No OS</td>\n",
       "      <td>1.86kg</td>\n",
       "      <td>575.00</td>\n",
       "    </tr>\n",
       "    <tr>\n",
       "      <th>3</th>\n",
       "      <td>4</td>\n",
       "      <td>Apple</td>\n",
       "      <td>MacBook Pro</td>\n",
       "      <td>Ultrabook</td>\n",
       "      <td>15.4</td>\n",
       "      <td>IPS Panel Retina Display 2880x1800</td>\n",
       "      <td>Intel Core i7 2.7GHz</td>\n",
       "      <td>16GB</td>\n",
       "      <td>512GB SSD</td>\n",
       "      <td>AMD Radeon Pro 455</td>\n",
       "      <td>macOS</td>\n",
       "      <td>1.83kg</td>\n",
       "      <td>2537.45</td>\n",
       "    </tr>\n",
       "    <tr>\n",
       "      <th>4</th>\n",
       "      <td>5</td>\n",
       "      <td>Apple</td>\n",
       "      <td>MacBook Pro</td>\n",
       "      <td>Ultrabook</td>\n",
       "      <td>13.3</td>\n",
       "      <td>IPS Panel Retina Display 2560x1600</td>\n",
       "      <td>Intel Core i5 3.1GHz</td>\n",
       "      <td>8GB</td>\n",
       "      <td>256GB SSD</td>\n",
       "      <td>Intel Iris Plus Graphics 650</td>\n",
       "      <td>macOS</td>\n",
       "      <td>1.37kg</td>\n",
       "      <td>1803.60</td>\n",
       "    </tr>\n",
       "  </tbody>\n",
       "</table>\n",
       "</div>"
      ],
      "text/plain": [
       "   laptop_ID Company      Product   TypeName  Inches  \\\n",
       "0          1   Apple  MacBook Pro  Ultrabook    13.3   \n",
       "1          2   Apple  Macbook Air  Ultrabook    13.3   \n",
       "2          3      HP       250 G6   Notebook    15.6   \n",
       "3          4   Apple  MacBook Pro  Ultrabook    15.4   \n",
       "4          5   Apple  MacBook Pro  Ultrabook    13.3   \n",
       "\n",
       "                     ScreenResolution                         Cpu   Ram  \\\n",
       "0  IPS Panel Retina Display 2560x1600        Intel Core i5 2.3GHz   8GB   \n",
       "1                            1440x900        Intel Core i5 1.8GHz   8GB   \n",
       "2                   Full HD 1920x1080  Intel Core i5 7200U 2.5GHz   8GB   \n",
       "3  IPS Panel Retina Display 2880x1800        Intel Core i7 2.7GHz  16GB   \n",
       "4  IPS Panel Retina Display 2560x1600        Intel Core i5 3.1GHz   8GB   \n",
       "\n",
       "                Memory                           Gpu  OpSys  Weight  \\\n",
       "0            128GB SSD  Intel Iris Plus Graphics 640  macOS  1.37kg   \n",
       "1  128GB Flash Storage        Intel HD Graphics 6000  macOS  1.34kg   \n",
       "2            256GB SSD         Intel HD Graphics 620  No OS  1.86kg   \n",
       "3            512GB SSD            AMD Radeon Pro 455  macOS  1.83kg   \n",
       "4            256GB SSD  Intel Iris Plus Graphics 650  macOS  1.37kg   \n",
       "\n",
       "   Price_euros  \n",
       "0      1339.69  \n",
       "1       898.94  \n",
       "2       575.00  \n",
       "3      2537.45  \n",
       "4      1803.60  "
      ]
     },
     "execution_count": 3,
     "metadata": {},
     "output_type": "execute_result"
    }
   ],
   "source": [
    "df.head()"
   ]
  },
  {
   "cell_type": "code",
   "execution_count": 4,
   "id": "cccde3d8",
   "metadata": {},
   "outputs": [
    {
     "data": {
      "text/html": [
       "<div>\n",
       "<style scoped>\n",
       "    .dataframe tbody tr th:only-of-type {\n",
       "        vertical-align: middle;\n",
       "    }\n",
       "\n",
       "    .dataframe tbody tr th {\n",
       "        vertical-align: top;\n",
       "    }\n",
       "\n",
       "    .dataframe thead th {\n",
       "        text-align: right;\n",
       "    }\n",
       "</style>\n",
       "<table border=\"1\" class=\"dataframe\">\n",
       "  <thead>\n",
       "    <tr style=\"text-align: right;\">\n",
       "      <th></th>\n",
       "      <th>laptop_ID</th>\n",
       "      <th>Inches</th>\n",
       "      <th>Price_euros</th>\n",
       "    </tr>\n",
       "  </thead>\n",
       "  <tbody>\n",
       "    <tr>\n",
       "      <th>count</th>\n",
       "      <td>1303.000000</td>\n",
       "      <td>1303.000000</td>\n",
       "      <td>1303.000000</td>\n",
       "    </tr>\n",
       "    <tr>\n",
       "      <th>mean</th>\n",
       "      <td>660.155794</td>\n",
       "      <td>15.017191</td>\n",
       "      <td>1123.686992</td>\n",
       "    </tr>\n",
       "    <tr>\n",
       "      <th>std</th>\n",
       "      <td>381.172104</td>\n",
       "      <td>1.426304</td>\n",
       "      <td>699.009043</td>\n",
       "    </tr>\n",
       "    <tr>\n",
       "      <th>min</th>\n",
       "      <td>1.000000</td>\n",
       "      <td>10.100000</td>\n",
       "      <td>174.000000</td>\n",
       "    </tr>\n",
       "    <tr>\n",
       "      <th>25%</th>\n",
       "      <td>331.500000</td>\n",
       "      <td>14.000000</td>\n",
       "      <td>599.000000</td>\n",
       "    </tr>\n",
       "    <tr>\n",
       "      <th>50%</th>\n",
       "      <td>659.000000</td>\n",
       "      <td>15.600000</td>\n",
       "      <td>977.000000</td>\n",
       "    </tr>\n",
       "    <tr>\n",
       "      <th>75%</th>\n",
       "      <td>990.500000</td>\n",
       "      <td>15.600000</td>\n",
       "      <td>1487.880000</td>\n",
       "    </tr>\n",
       "    <tr>\n",
       "      <th>max</th>\n",
       "      <td>1320.000000</td>\n",
       "      <td>18.400000</td>\n",
       "      <td>6099.000000</td>\n",
       "    </tr>\n",
       "  </tbody>\n",
       "</table>\n",
       "</div>"
      ],
      "text/plain": [
       "         laptop_ID       Inches  Price_euros\n",
       "count  1303.000000  1303.000000  1303.000000\n",
       "mean    660.155794    15.017191  1123.686992\n",
       "std     381.172104     1.426304   699.009043\n",
       "min       1.000000    10.100000   174.000000\n",
       "25%     331.500000    14.000000   599.000000\n",
       "50%     659.000000    15.600000   977.000000\n",
       "75%     990.500000    15.600000  1487.880000\n",
       "max    1320.000000    18.400000  6099.000000"
      ]
     },
     "execution_count": 4,
     "metadata": {},
     "output_type": "execute_result"
    }
   ],
   "source": [
    "df.describe()"
   ]
  },
  {
   "cell_type": "code",
   "execution_count": 8,
   "id": "cb30b41e",
   "metadata": {},
   "outputs": [],
   "source": [
    "from sklearn import preprocessing as p"
   ]
  },
  {
   "cell_type": "code",
   "execution_count": 9,
   "id": "9c747cc1",
   "metadata": {},
   "outputs": [],
   "source": [
    "m=p.MinMaxScaler(feature_range=(0,1))"
   ]
  },
  {
   "cell_type": "code",
   "execution_count": null,
   "id": "7ffae974",
   "metadata": {},
   "outputs": [],
   "source": []
  }
 ],
 "metadata": {
  "kernelspec": {
   "display_name": "Python 3 (ipykernel)",
   "language": "python",
   "name": "python3"
  },
  "language_info": {
   "codemirror_mode": {
    "name": "ipython",
    "version": 3
   },
   "file_extension": ".py",
   "mimetype": "text/x-python",
   "name": "python",
   "nbconvert_exporter": "python",
   "pygments_lexer": "ipython3",
   "version": "3.9.13"
  }
 },
 "nbformat": 4,
 "nbformat_minor": 5
}
